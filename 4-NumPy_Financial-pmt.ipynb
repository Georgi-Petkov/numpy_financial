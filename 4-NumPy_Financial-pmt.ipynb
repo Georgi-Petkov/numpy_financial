{
 "cells": [
  {
   "cell_type": "markdown",
   "id": "7fdb10ab",
   "metadata": {},
   "source": [
    "# Using NumPy Financial - pmt function\n",
    "* common financial functions were traditionally part NumPy\n",
    "* were removed and packaged separately in NumPy version 1.17\n",
    "* functions that work indistinguishably from their Excel counterparts, but generally better!"
   ]
  },
  {
   "cell_type": "markdown",
   "id": "bc2e3566",
   "metadata": {},
   "source": [
    "### 1. If you don't already have the package\n",
    "* Run the following in a notebook code cell:\n",
    "    `!pip install numpy-financial`"
   ]
  },
  {
   "cell_type": "markdown",
   "id": "9bbd4005",
   "metadata": {},
   "source": [
    "### 2. Import any modules and packages for your environment "
   ]
  },
  {
   "cell_type": "code",
   "execution_count": 1,
   "id": "c798a44f",
   "metadata": {},
   "outputs": [],
   "source": [
    "import numpy_financial as npf"
   ]
  },
  {
   "cell_type": "code",
   "execution_count": 4,
   "id": "e19d46af",
   "metadata": {},
   "outputs": [
    {
     "data": {
      "text/plain": [
       "['fv', 'ipmt', 'irr', 'mirr', 'nper', 'npv', 'pmt', 'ppmt', 'pv', 'rate']"
      ]
     },
     "execution_count": 4,
     "metadata": {},
     "output_type": "execute_result"
    }
   ],
   "source": [
    "[function for function in dir(npf) if not function.startswith('_')]"
   ]
  },
  {
   "cell_type": "code",
   "execution_count": 6,
   "id": "0e8446be",
   "metadata": {},
   "outputs": [
    {
     "name": "stdout",
     "output_type": "stream",
     "text": [
      "Help on function pmt in module numpy_financial._financial:\n",
      "\n",
      "pmt(rate, nper, pv, fv=0, when='end')\n",
      "    Compute the payment against loan principal plus interest.\n",
      "    \n",
      "    Given:\n",
      "     * a present value, `pv` (e.g., an amount borrowed)\n",
      "     * a future value, `fv` (e.g., 0)\n",
      "     * an interest `rate` compounded once per period, of which\n",
      "       there are\n",
      "     * `nper` total\n",
      "     * and (optional) specification of whether payment is made\n",
      "       at the beginning (`when` = {'begin', 1}) or the end\n",
      "       (`when` = {'end', 0}) of each period\n",
      "    \n",
      "    Return:\n",
      "       the (fixed) periodic payment.\n",
      "    \n",
      "    Parameters\n",
      "    ----------\n",
      "    rate : array_like\n",
      "        Rate of interest (per period)\n",
      "    nper : array_like\n",
      "        Number of compounding periods\n",
      "    pv : array_like\n",
      "        Present value\n",
      "    fv : array_like,  optional\n",
      "        Future value (default = 0)\n",
      "    when : {{'begin', 1}, {'end', 0}}, {string, int}\n",
      "        When payments are due ('begin' (1) or 'end' (0))\n",
      "    \n",
      "    Returns\n",
      "    -------\n",
      "    out : ndarray\n",
      "        Payment against loan plus interest.  If all input is scalar, returns a\n",
      "        scalar float.  If any input is array_like, returns payment for each\n",
      "        input element. If multiple inputs are array_like, they all must have\n",
      "        the same shape.\n",
      "    \n",
      "    Notes\n",
      "    -----\n",
      "    The payment is computed by solving the equation::\n",
      "    \n",
      "     fv +\n",
      "     pv*(1 + rate)**nper +\n",
      "     pmt*(1 + rate*when)/rate*((1 + rate)**nper - 1) == 0\n",
      "    \n",
      "    or, when ``rate == 0``::\n",
      "    \n",
      "      fv + pv + pmt * nper == 0\n",
      "    \n",
      "    for ``pmt``.\n",
      "    \n",
      "    Note that computing a monthly mortgage payment is only\n",
      "    one use for this function.  For example, pmt returns the\n",
      "    periodic deposit one must make to achieve a specified\n",
      "    future balance given an initial deposit, a fixed,\n",
      "    periodically compounded interest rate, and the total\n",
      "    number of periods.\n",
      "    \n",
      "    References\n",
      "    ----------\n",
      "    .. [WRW] Wheeler, D. A., E. Rathke, and R. Weir (Eds.) (2009, May).\n",
      "       Open Document Format for Office Applications (OpenDocument)v1.2,\n",
      "       Part 2: Recalculated Formula (OpenFormula) Format - Annotated Version,\n",
      "       Pre-Draft 12. Organization for the Advancement of Structured Information\n",
      "       Standards (OASIS). Billerica, MA, USA. [ODT Document].\n",
      "       Available:\n",
      "       http://www.oasis-open.org/committees/documents.php\n",
      "       ?wg_abbrev=office-formulaOpenDocument-formula-20090508.odt\n",
      "    \n",
      "    Examples\n",
      "    --------\n",
      "    >>> import numpy_financial as npf\n",
      "    \n",
      "    What is the monthly payment needed to pay off a $200,000 loan in 15\n",
      "    years at an annual interest rate of 7.5%?\n",
      "    \n",
      "    >>> npf.pmt(0.075/12, 12*15, 200000)\n",
      "    -1854.0247200054619\n",
      "    \n",
      "    In order to pay-off (i.e., have a future-value of 0) the $200,000 obtained\n",
      "    today, a monthly payment of $1,854.02 would be required.  Note that this\n",
      "    example illustrates usage of `fv` having a default value of 0.\n",
      "\n"
     ]
    }
   ],
   "source": [
    "help(npf.pmt)"
   ]
  },
  {
   "cell_type": "code",
   "execution_count": null,
   "id": "1e600960",
   "metadata": {},
   "outputs": [],
   "source": []
  },
  {
   "cell_type": "markdown",
   "id": "1773f03d",
   "metadata": {},
   "source": [
    "### Suppose you are considering a property purchase based on the following:\n",
    "* Loan Amount : $360,000\n",
    "* Interest Rate: 5.875%\n",
    "* Years to pay back: 30\n",
    "\n",
    "1. How much is the monthly payment?\n",
    "2. How sensitive is the payment to interest rate?"
   ]
  },
  {
   "cell_type": "code",
   "execution_count": 7,
   "id": "1498a9dd",
   "metadata": {},
   "outputs": [],
   "source": [
    "rate = 5.875\n",
    "loan_amount = 360000\n",
    "term = 30 "
   ]
  },
  {
   "cell_type": "code",
   "execution_count": 10,
   "id": "c4b80218",
   "metadata": {},
   "outputs": [
    {
     "name": "stdout",
     "output_type": "stream",
     "text": [
      "$2,129.54\n"
     ]
    }
   ],
   "source": [
    "print(f'${npf.pmt(rate / 1200, term * 12, -loan_amount):,.2f}')"
   ]
  },
  {
   "cell_type": "code",
   "execution_count": 14,
   "id": "868ffb8f",
   "metadata": {},
   "outputs": [
    {
     "data": {
      "text/plain": [
       "[0.004479166666666667,\n",
       " 0.004583333333333333,\n",
       " 0.0046875,\n",
       " 0.004791666666666666,\n",
       " 0.004895833333333334,\n",
       " 0.005,\n",
       " 0.005104166666666667,\n",
       " 0.005208333333333333,\n",
       " 0.0053125]"
      ]
     },
     "execution_count": 14,
     "metadata": {},
     "output_type": "execute_result"
    }
   ],
   "source": [
    "rates = [(rate -.5 + x/8) / 1200 for x in range(9)]\n",
    "rates"
   ]
  },
  {
   "cell_type": "code",
   "execution_count": null,
   "id": "c3df561f",
   "metadata": {},
   "outputs": [],
   "source": []
  },
  {
   "cell_type": "code",
   "execution_count": 21,
   "id": "95a30e4c",
   "metadata": {},
   "outputs": [
    {
     "name": "stdout",
     "output_type": "stream",
     "text": [
      "Rate                Payment\n",
      "---------------------------\n",
      "5.375%            $2,015.90\n",
      "5.500%            $2,044.04\n",
      "5.625%            $2,072.36\n",
      "5.750%            $2,100.86\n",
      "5.875%            $2,129.54\n",
      "6.000%            $2,158.38\n",
      "6.125%            $2,187.40\n",
      "6.250%            $2,216.58\n",
      "6.375%            $2,245.93\n"
     ]
    }
   ],
   "source": [
    "pmts = npf.pmt(rates, term * 12, -loan_amount)\n",
    "print(f\"{'Rate':20}{'Payment'}\")\n",
    "print(\"-\" * 27)\n",
    "for point in range(len(pmts)):\n",
    "    pmt = f'${pmts[point]:,.2f}'\n",
    "    print(f'{rates[point] * 12:.3%}{pmt:>21}')\n"
   ]
  },
  {
   "cell_type": "code",
   "execution_count": 23,
   "id": "b9229217",
   "metadata": {},
   "outputs": [
    {
     "data": {
      "text/plain": [
       "[180, 240, 300, 360]"
      ]
     },
     "execution_count": 23,
     "metadata": {},
     "output_type": "execute_result"
    }
   ],
   "source": [
    "terms = list(range(180,361,60))\n",
    "terms    "
   ]
  },
  {
   "cell_type": "code",
   "execution_count": 29,
   "id": "92029a32",
   "metadata": {},
   "outputs": [
    {
     "name": "stdout",
     "output_type": "stream",
     "text": [
      "Term                   Payment\n",
      "------------------------------\n",
      "15 years               3,013.63\n",
      "20 years               2,553.26\n",
      "25 years               2,292.06\n",
      "30 years               2,129.54\n"
     ]
    }
   ],
   "source": [
    "pmts = npf.pmt(rate / 1200, terms, -loan_amount)\n",
    "pmts\n",
    "print(f\"{'Term':23}{'Payment'}\")\n",
    "print(\"-\" * 30)\n",
    "for term in range(len(terms)):\n",
    "    term_str = f\"{terms[term] // 12} years\"\n",
    "    print(f\"{term_str:23}{pmts[term]:,.2f}\")\n",
    "    "
   ]
  },
  {
   "cell_type": "code",
   "execution_count": null,
   "id": "2cfeadeb",
   "metadata": {},
   "outputs": [],
   "source": []
  },
  {
   "cell_type": "code",
   "execution_count": null,
   "id": "b752536c",
   "metadata": {},
   "outputs": [],
   "source": []
  },
  {
   "cell_type": "code",
   "execution_count": null,
   "id": "571c13ba",
   "metadata": {},
   "outputs": [],
   "source": []
  },
  {
   "cell_type": "code",
   "execution_count": null,
   "id": "417ec635",
   "metadata": {},
   "outputs": [],
   "source": []
  },
  {
   "cell_type": "code",
   "execution_count": null,
   "id": "234b3844",
   "metadata": {},
   "outputs": [],
   "source": []
  },
  {
   "cell_type": "code",
   "execution_count": null,
   "id": "8277a7d4",
   "metadata": {},
   "outputs": [],
   "source": []
  },
  {
   "cell_type": "code",
   "execution_count": null,
   "id": "cc690fd0",
   "metadata": {},
   "outputs": [],
   "source": []
  },
  {
   "cell_type": "code",
   "execution_count": null,
   "id": "05c29c4e",
   "metadata": {},
   "outputs": [],
   "source": []
  },
  {
   "cell_type": "code",
   "execution_count": null,
   "id": "36837476",
   "metadata": {},
   "outputs": [],
   "source": [
    "\n"
   ]
  },
  {
   "cell_type": "code",
   "execution_count": null,
   "id": "c3b9fbd9",
   "metadata": {},
   "outputs": [],
   "source": []
  }
 ],
 "metadata": {
  "kernelspec": {
   "display_name": "Python 3 (ipykernel)",
   "language": "python",
   "name": "python3"
  },
  "language_info": {
   "codemirror_mode": {
    "name": "ipython",
    "version": 3
   },
   "file_extension": ".py",
   "mimetype": "text/x-python",
   "name": "python",
   "nbconvert_exporter": "python",
   "pygments_lexer": "ipython3",
   "version": "3.9.7"
  }
 },
 "nbformat": 4,
 "nbformat_minor": 5
}
