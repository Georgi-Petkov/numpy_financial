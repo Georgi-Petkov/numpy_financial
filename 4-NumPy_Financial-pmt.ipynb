{
 "cells": [
  {
   "cell_type": "markdown",
   "id": "7fdb10ab",
   "metadata": {},
   "source": [
    "# Using NumPy Financial - npv/irr functions\n",
    "* common financial functions were traditionally part NumPy\n",
    "* were removed and packaged separately in NumPy version 1.17\n",
    "* functions that work indistinguishably from their Excel counterparts, but generally better!"
   ]
  },
  {
   "cell_type": "markdown",
   "id": "bc2e3566",
   "metadata": {},
   "source": [
    "### 1. If you don't already have the package\n",
    "* Run the following in a notebook code cell:\n",
    "    `!pip install numpy-financial`"
   ]
  },
  {
   "cell_type": "markdown",
   "id": "9bbd4005",
   "metadata": {},
   "source": [
    "### 2. Import any modules and packages for your environment "
   ]
  },
  {
   "cell_type": "code",
   "execution_count": 1,
   "id": "c798a44f",
   "metadata": {},
   "outputs": [
    {
     "data": {
      "text/plain": [
       "'1.0.0'"
      ]
     },
     "execution_count": 1,
     "metadata": {},
     "output_type": "execute_result"
    }
   ],
   "source": [
    "import numpy_financial as npf\n",
    "npf.__version__"
   ]
  },
  {
   "cell_type": "code",
   "execution_count": 2,
   "id": "e19d46af",
   "metadata": {},
   "outputs": [
    {
     "data": {
      "text/plain": [
       "['fv', 'ipmt', 'irr', 'mirr', 'nper', 'npv', 'pmt', 'ppmt', 'pv', 'rate']"
      ]
     },
     "execution_count": 2,
     "metadata": {},
     "output_type": "execute_result"
    }
   ],
   "source": [
    "[function for function in dir(npf) if not function.startswith('_')]"
   ]
  },
  {
   "cell_type": "code",
   "execution_count": null,
   "id": "0e8446be",
   "metadata": {},
   "outputs": [],
   "source": [
    "help(npf.pmt)"
   ]
  },
  {
   "cell_type": "code",
   "execution_count": null,
   "id": "1e600960",
   "metadata": {},
   "outputs": [],
   "source": []
  },
  {
   "cell_type": "markdown",
   "id": "1773f03d",
   "metadata": {},
   "source": [
    "### Suppose you are considering a property purchase based on the following:\n",
    "* Loan Amount : $360,000\n",
    "* Interest Rate: 5.875%\n",
    "* Years to pay back: 30\n",
    "\n",
    "1. How much is the monthly payment?\n",
    "2. How sensitive is the payment to interest rate?"
   ]
  },
  {
   "cell_type": "code",
   "execution_count": 4,
   "id": "1498a9dd",
   "metadata": {},
   "outputs": [],
   "source": [
    "rate = 5.875\n",
    "loan_amount = 360000\n",
    "term = 30 "
   ]
  },
  {
   "cell_type": "code",
   "execution_count": 5,
   "id": "c4b80218",
   "metadata": {},
   "outputs": [
    {
     "name": "stdout",
     "output_type": "stream",
     "text": [
      "$ 2,129.54\n"
     ]
    }
   ],
   "source": [
    "print(f'$ {npf.pmt(rate / 1200, term * 12, -loan_amount):,.2f}')"
   ]
  },
  {
   "cell_type": "code",
   "execution_count": null,
   "id": "868ffb8f",
   "metadata": {},
   "outputs": [],
   "source": [
    "rates = [(rate - .50 + x/8) / 1200 for x in range(9)]\n",
    "rates"
   ]
  },
  {
   "cell_type": "code",
   "execution_count": 7,
   "id": "c3df561f",
   "metadata": {},
   "outputs": [
    {
     "data": {
      "text/plain": [
       "array([2015.89645953, 2044.04040485, 2072.36305486, 2100.8622832 ,\n",
       "       2129.53594742, 2158.38189055, 2187.39794249, 2216.58192154,\n",
       "       2245.93163578])"
      ]
     },
     "execution_count": 7,
     "metadata": {},
     "output_type": "execute_result"
    }
   ],
   "source": [
    "npf.pmt(rates, term * 12, -loan_amount)"
   ]
  },
  {
   "cell_type": "code",
   "execution_count": null,
   "id": "95a30e4c",
   "metadata": {},
   "outputs": [],
   "source": [
    "pmts = npf.pmt(rates, term * 12, -loan_amount)\n",
    "print(f\"{'Rate':20}{'Payment'}\")\n",
    "print(\"-\" * 27)\n",
    "rates_str = [(rate - .5 + point / 8) / 100 for point in range(9)]\n",
    "for point in range(len(pmts)):\n",
    "    pmt = f'${pmts[point]:,.2f}'\n",
    "    print(f'{rates_str[point]:.3%}{pmt:>21}')"
   ]
  },
  {
   "cell_type": "code",
   "execution_count": 58,
   "id": "b9229217",
   "metadata": {},
   "outputs": [
    {
     "name": "stdout",
     "output_type": "stream",
     "text": [
      "Term                   Payment\n",
      "------------------------------\n",
      "15 years               3013.63\n",
      "20 years               2553.26\n",
      "25 years               2292.06\n",
      "30 years               2129.54\n"
     ]
    }
   ],
   "source": [
    "terms = list(range(180,361,60))\n",
    "pmts = npf.pmt(rate/1200, terms, -loan_amount)\n",
    "print(f\"{'Term':23s}{'Payment'}\")\n",
    "print(\"-\"* 30)\n",
    "for term in range(len(terms)):\n",
    "    term_str = f\"${terms[term] // 12} years\"\n",
    "    print(f\"{term_str:23}{pmts[term]:.2f}\")\n",
    "    "
   ]
  },
  {
   "cell_type": "code",
   "execution_count": null,
   "id": "92029a32",
   "metadata": {},
   "outputs": [],
   "source": []
  },
  {
   "cell_type": "code",
   "execution_count": null,
   "id": "2cfeadeb",
   "metadata": {},
   "outputs": [],
   "source": []
  },
  {
   "cell_type": "code",
   "execution_count": null,
   "id": "b752536c",
   "metadata": {},
   "outputs": [],
   "source": []
  },
  {
   "cell_type": "code",
   "execution_count": null,
   "id": "571c13ba",
   "metadata": {},
   "outputs": [],
   "source": []
  }
 ],
 "metadata": {
  "kernelspec": {
   "display_name": "Python 3 (ipykernel)",
   "language": "python",
   "name": "python3"
  },
  "language_info": {
   "codemirror_mode": {
    "name": "ipython",
    "version": 3
   },
   "file_extension": ".py",
   "mimetype": "text/x-python",
   "name": "python",
   "nbconvert_exporter": "python",
   "pygments_lexer": "ipython3",
   "version": "3.8.12"
  }
 },
 "nbformat": 4,
 "nbformat_minor": 5
}
