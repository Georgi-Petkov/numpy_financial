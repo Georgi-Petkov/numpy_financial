{
 "cells": [
  {
   "cell_type": "markdown",
   "id": "7fdb10ab",
   "metadata": {},
   "source": [
    "# Using NumPy Financial - npv/irr functions\n",
    "* common financial functions were traditionally part NumPy\n",
    "* were removed and packaged separately in NumPy version 1.17\n",
    "* functions that work indistinguishably from their Excel counterparts, but generally better!"
   ]
  },
  {
   "cell_type": "markdown",
   "id": "bc2e3566",
   "metadata": {},
   "source": [
    "### 1. If you don't already have the package\n",
    "* Run the following in a notebook code cell:\n",
    "    `!pip install numpy-financial`"
   ]
  },
  {
   "cell_type": "markdown",
   "id": "9bbd4005",
   "metadata": {},
   "source": [
    "### 2. Import any modules and packages for your environment "
   ]
  },
  {
   "cell_type": "code",
   "execution_count": 1,
   "id": "c798a44f",
   "metadata": {},
   "outputs": [
    {
     "data": {
      "text/plain": [
       "'1.0.0'"
      ]
     },
     "execution_count": 1,
     "metadata": {},
     "output_type": "execute_result"
    }
   ],
   "source": [
    "import numpy_financial as npf\n",
    "npf.__version__"
   ]
  },
  {
   "cell_type": "code",
   "execution_count": 2,
   "id": "e19d46af",
   "metadata": {},
   "outputs": [
    {
     "data": {
      "text/plain": [
       "['fv', 'ipmt', 'irr', 'mirr', 'nper', 'npv', 'pmt', 'ppmt', 'pv', 'rate']"
      ]
     },
     "execution_count": 2,
     "metadata": {},
     "output_type": "execute_result"
    }
   ],
   "source": [
    "[function for function in dir(npf) if not function.startswith('_')]"
   ]
  },
  {
   "cell_type": "code",
   "execution_count": null,
   "id": "0e8446be",
   "metadata": {},
   "outputs": [],
   "source": [
    "help(npf.nper)"
   ]
  },
  {
   "cell_type": "code",
   "execution_count": null,
   "id": "1e600960",
   "metadata": {},
   "outputs": [],
   "source": []
  },
  {
   "cell_type": "markdown",
   "id": "1773f03d",
   "metadata": {},
   "source": [
    "### Suppose you are considering a property purchase based on the following:\n",
    "* Loan Amount : $360,000\n",
    "* Interest Rate: 5.875%\n",
    "* Years to pay back: 30\n",
    "\n",
    "1. How much time can you shave off the loan by making extra principal payment?\n",
    "2. How much do you have to add to pay the loan off in a specified amount of time?"
   ]
  },
  {
   "cell_type": "code",
   "execution_count": 4,
   "id": "1498a9dd",
   "metadata": {},
   "outputs": [],
   "source": [
    "rate = 5.875\n",
    "loan_amount = 360000\n",
    "term = 30\n",
    "monthly_extra = 100"
   ]
  },
  {
   "cell_type": "markdown",
   "id": "91e81691",
   "metadata": {},
   "source": [
    "### 3. Basic Usage\n",
    "* If you have current balance, and payment for existing loan no need to calculate payment first"
   ]
  },
  {
   "cell_type": "code",
   "execution_count": 7,
   "id": "c4b80218",
   "metadata": {},
   "outputs": [
    {
     "data": {
      "text/plain": [
       "array(360.)"
      ]
     },
     "execution_count": 7,
     "metadata": {},
     "output_type": "execute_result"
    }
   ],
   "source": [
    "pmt = npf.pmt(rate / 1200, term * 12, -loan_amount)\n",
    "npf.nper(rate / 1200, pmt, -loan_amount)    "
   ]
  },
  {
   "cell_type": "code",
   "execution_count": 12,
   "id": "868ffb8f",
   "metadata": {},
   "outputs": [
    {
     "data": {
      "text/plain": [
       "26.67175907275413"
      ]
     },
     "execution_count": 12,
     "metadata": {},
     "output_type": "execute_result"
    }
   ],
   "source": [
    "pmt = npf.pmt(rate / 1200, term * 12, -loan_amount)\n",
    "npf.nper(rate / 1200, pmt + monthly_extra, -loan_amount) / 12"
   ]
  },
  {
   "cell_type": "markdown",
   "id": "4c7d2f85",
   "metadata": {},
   "source": [
    "### 4. More Advanced Useage"
   ]
  },
  {
   "cell_type": "code",
   "execution_count": 2,
   "id": "c3df561f",
   "metadata": {},
   "outputs": [
    {
     "data": {
      "text/plain": [
       "[100, 200, 300, 400, 500]"
      ]
     },
     "execution_count": 2,
     "metadata": {},
     "output_type": "execute_result"
    }
   ],
   "source": [
    "extra_payment = range(100,600,100)\n",
    "list(extra_payment)"
   ]
  },
  {
   "cell_type": "code",
   "execution_count": 30,
   "id": "95a30e4c",
   "metadata": {},
   "outputs": [
    {
     "data": {
      "text/plain": [
       "array([26.67175907, 24.10991926, 22.05571474, 20.36044416, 18.93099464])"
      ]
     },
     "execution_count": 30,
     "metadata": {},
     "output_type": "execute_result"
    }
   ],
   "source": [
    "npf.nper(rate / 1200, pmt + extra_payment, -loan_amount)  / 12"
   ]
  },
  {
   "cell_type": "code",
   "execution_count": 31,
   "id": "b9229217",
   "metadata": {},
   "outputs": [],
   "source": [
    "def retire_debt(rate, term, loan_amount, years_to_debt_free = 9):\n",
    "    rate = rate /1200\n",
    "    pmt = npf.pmt(rate, term * 12, -loan_amount)\n",
    "    extra_payment = 1\n",
    "    while npf.nper(rate, pmt + extra_payment, -loan_amount) / 12 > years_to_debt_free:\n",
    "        extra_payment += 1\n",
    "    return npf.nper(rate, pmt + extra_payment, -loan_amount) / 12, pmt + extra_payment    \n",
    "    "
   ]
  },
  {
   "cell_type": "code",
   "execution_count": 34,
   "id": "92029a32",
   "metadata": {},
   "outputs": [
    {
     "data": {
      "text/plain": [
       "(9.998773827355635, 3974.5359474243946)"
      ]
     },
     "execution_count": 34,
     "metadata": {},
     "output_type": "execute_result"
    }
   ],
   "source": [
    "eliminate_debt(rate, term, loan_amount, 10)"
   ]
  },
  {
   "cell_type": "code",
   "execution_count": 33,
   "id": "2cfeadeb",
   "metadata": {},
   "outputs": [
    {
     "data": {
      "text/plain": [
       "array(107.99504599)"
      ]
     },
     "execution_count": 33,
     "metadata": {},
     "output_type": "execute_result"
    }
   ],
   "source": [
    "npf.nper(rate/ 1200, 4300,-360000)"
   ]
  },
  {
   "cell_type": "code",
   "execution_count": null,
   "id": "b752536c",
   "metadata": {},
   "outputs": [],
   "source": []
  },
  {
   "cell_type": "code",
   "execution_count": null,
   "id": "571c13ba",
   "metadata": {},
   "outputs": [],
   "source": []
  }
 ],
 "metadata": {
  "kernelspec": {
   "display_name": "Python 3 (ipykernel)",
   "language": "python",
   "name": "python3"
  },
  "language_info": {
   "codemirror_mode": {
    "name": "ipython",
    "version": 3
   },
   "file_extension": ".py",
   "mimetype": "text/x-python",
   "name": "python",
   "nbconvert_exporter": "python",
   "pygments_lexer": "ipython3",
   "version": "3.8.12"
  }
 },
 "nbformat": 4,
 "nbformat_minor": 5
}
